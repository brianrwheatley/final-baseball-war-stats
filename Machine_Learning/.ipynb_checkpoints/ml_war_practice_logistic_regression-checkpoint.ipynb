{
 "cells": [
  {
   "cell_type": "markdown",
   "id": "86a72a2c",
   "metadata": {},
   "source": [
    "Import Dependencies for model and create mock data to test\n",
    "\n",
    "Mock data will be based of 5 factors for athlete array. These include age, injury location(referenced by (0 = no injury, 1 = head injury, 2 = shoulder, 3 = arm, 4= back, 5 = proximial lower extremities (ex. groin or hamsting, 6 = distial leg injury(ankle or foot), position (pitcher = 0, first base = 1, secondbase = 2, thirdbase = 3, shortstop = 4, catcher = 5, outfield = 6, dh = 7), history of games missed due to injuries, team = value of 0 to 3 for 4 teams)\n",
    "\n",
    "decrease in war average will be 0(yes) and 1(no)"
   ]
  },
  {
   "cell_type": "code",
   "execution_count": 1,
   "id": "524a9560",
   "metadata": {},
   "outputs": [],
   "source": [
    "# Import dependencies\n",
    "import os\n",
    "import pandas as pd\n",
    "import numpy as np\n",
    "import sklearn\n",
    "from sklearn.linear_model import LogisticRegression"
   ]
  },
  {
   "cell_type": "code",
   "execution_count": 2,
   "id": "624c802c",
   "metadata": {},
   "outputs": [
    {
     "data": {
      "text/plain": [
       "array([[ 25,   3,   0,  78,   1],\n",
       "       [ 34,   5,   1, 256,   2],\n",
       "       [ 19,   6,   2,   0,   2],\n",
       "       [ 21,   3,   3,   7,   3],\n",
       "       [ 37,   3,   4, 178,   1],\n",
       "       [ 22,   6,   5, 102,   0],\n",
       "       [ 31,   2,   6,  24,   0],\n",
       "       [ 29,   3,   7,  98,   1],\n",
       "       [ 26,   5,   0,  78,   2],\n",
       "       [ 28,   2,   0,  78,   3],\n",
       "       [ 25,   0,   0,   0,   3],\n",
       "       [ 21,   2,   6,  92,   1],\n",
       "       [ 29,   6,   4, 250,   0],\n",
       "       [ 29,   3,   3,  15,   1]])"
      ]
     },
     "execution_count": 2,
     "metadata": {},
     "output_type": "execute_result"
    }
   ],
   "source": [
    "# Create fake basbeall player/athletes array.  Below are values in the array\n",
    "# age\n",
    "# injury location 0-6 (referenced by (0 = no injury, 1 = head injury, 2 = shoulder, 3 = arm, 4= back, 5 = proximial lower extremities(ex. groin or hamsting, 6 = distial leg injury(ankle or foot) \n",
    "# position 0-7 (pitcher = 0, first base = 1, secondbase = 2, thirdbase = 3, shortstop = 4, catcher = 5, outfield = 6, dh = 7) \n",
    "# history of games missed on injury list\n",
    "# team = value of 0 to 3 for 4 teams\n",
    "athletes = np.array([[25,3,0,78,1],\n",
    "                    [34,5,1,256,2],\n",
    "                   [19,6,2,0,2],\n",
    "                   [21,3,3,7,3],\n",
    "                   [37,3,4,178,1],\n",
    "                   [22,6,5,102,0],\n",
    "                   [31,2,6,24,0],\n",
    "                   [29,3,7,98,1],\n",
    "                   [26,5,0,78,2],\n",
    "                   [28,2,0,78,3],\n",
    "                   [25,0,0,0,3],\n",
    "                   [21,2,6,92,1],\n",
    "                   [29,6,4,250,0],\n",
    "                   [29,3,3,15,1]])\n",
    "athletes"
   ]
  },
  {
   "cell_type": "code",
   "execution_count": 14,
   "id": "52cc9fe4",
   "metadata": {},
   "outputs": [
    {
     "data": {
      "text/plain": [
       "array([1, 0, 1, 1, 0, 1, 0, 1, 0, 1, 1, 1, 0, 1])"
      ]
     },
     "execution_count": 14,
     "metadata": {},
     "output_type": "execute_result"
    }
   ],
   "source": [
    "# Create array to show if war average dropped; 0 = no, 1 = yes\n",
    "war_outcome = np.array([1,0,1,1,0,1,0,1,0,1,1,1,0,1])\n",
    "war_outcome"
   ]
  },
  {
   "cell_type": "code",
   "execution_count": 15,
   "id": "90528040",
   "metadata": {},
   "outputs": [],
   "source": [
    "X = athletes\n",
    "y = war_outcome"
   ]
  },
  {
   "cell_type": "code",
   "execution_count": 16,
   "id": "f4d5d9b9",
   "metadata": {},
   "outputs": [
    {
     "name": "stdout",
     "output_type": "stream",
     "text": [
      "Training set score: 1.000\n"
     ]
    }
   ],
   "source": [
    "# Building model and determine the fit of model\n",
    "logreg = LogisticRegression(C=100).fit(X,y)\n",
    "print(\"Training set score: {:.3f}\".format(logreg.score(X,y)))"
   ]
  },
  {
   "cell_type": "code",
   "execution_count": 21,
   "id": "21160cff",
   "metadata": {},
   "outputs": [
    {
     "name": "stdout",
     "output_type": "stream",
     "text": [
      "[1]\n"
     ]
    }
   ],
   "source": [
    "#predict new\n",
    "X_new =np.array([23,5,3,56,2])\n",
    "X_new = X_new.reshape(1,-1)\n",
    "prediction = logreg.predict(X_new)\n",
    "print(prediction)"
   ]
  },
  {
   "cell_type": "code",
   "execution_count": 22,
   "id": "941a94b9",
   "metadata": {},
   "outputs": [
    {
     "name": "stdout",
     "output_type": "stream",
     "text": [
      "[[7.06523728e-12 1.00000000e+00]]\n",
      "A player risk of decline in WAR based on age, injury location, postion, history of time injured and team is 100%\n"
     ]
    }
   ],
   "source": [
    "# give the probability of prediction\n",
    "prob = logreg.predict_proba(X_new)\n",
    "print(prob)\n",
    "war_decline = round(float(prob[0][1])*100)\n",
    "print(\"A player risk of decline in WAR based on age, injury location, postion, history of time injured and team is \" + str(war_decline) + \"%\")"
   ]
  },
  {
   "cell_type": "code",
   "execution_count": null,
   "id": "46a65a2b",
   "metadata": {},
   "outputs": [],
   "source": []
  }
 ],
 "metadata": {
  "kernelspec": {
   "display_name": "PythonData",
   "language": "python",
   "name": "pythondata"
  },
  "language_info": {
   "codemirror_mode": {
    "name": "ipython",
    "version": 3
   },
   "file_extension": ".py",
   "mimetype": "text/x-python",
   "name": "python",
   "nbconvert_exporter": "python",
   "pygments_lexer": "ipython3",
   "version": "3.9.7"
  }
 },
 "nbformat": 4,
 "nbformat_minor": 5
}
